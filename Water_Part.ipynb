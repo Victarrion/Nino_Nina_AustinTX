{
 "cells": [
  {
   "cell_type": "code",
   "execution_count": 39,
   "metadata": {},
   "outputs": [],
   "source": [
    "# Dependencies and Setup\n",
    "import matplotlib.pyplot as plt\n",
    "import pandas as pd\n",
    "import numpy as np\n",
    "import scipy.stats as st\n",
    "from scipy import stats"
   ]
  },
  {
   "cell_type": "code",
   "execution_count": 40,
   "metadata": {},
   "outputs": [
    {
     "data": {
      "text/html": [
       "<div>\n",
       "<style scoped>\n",
       "    .dataframe tbody tr th:only-of-type {\n",
       "        vertical-align: middle;\n",
       "    }\n",
       "\n",
       "    .dataframe tbody tr th {\n",
       "        vertical-align: top;\n",
       "    }\n",
       "\n",
       "    .dataframe thead th {\n",
       "        text-align: right;\n",
       "    }\n",
       "</style>\n",
       "<table border=\"1\" class=\"dataframe\">\n",
       "  <thead>\n",
       "    <tr style=\"text-align: right;\">\n",
       "      <th></th>\n",
       "      <th>Year</th>\n",
       "      <th>Basin_1</th>\n",
       "      <th>Basin_2</th>\n",
       "      <th>Basin_3</th>\n",
       "      <th>Basin_4</th>\n",
       "      <th>Basin_5</th>\n",
       "      <th>Basin_6</th>\n",
       "      <th>Basin_7</th>\n",
       "      <th>Basin_9</th>\n",
       "      <th>Total</th>\n",
       "      <th>Postal Code</th>\n",
       "      <th>Customer Class</th>\n",
       "      <th>Total Gallons</th>\n",
       "    </tr>\n",
       "  </thead>\n",
       "  <tbody>\n",
       "    <tr>\n",
       "      <th>0</th>\n",
       "      <td>2012</td>\n",
       "      <td>78.3</td>\n",
       "      <td>82.6</td>\n",
       "      <td>8.9</td>\n",
       "      <td>14.4</td>\n",
       "      <td>41.6</td>\n",
       "      <td>3.9</td>\n",
       "      <td>32.2</td>\n",
       "      <td>51.6</td>\n",
       "      <td>313.5</td>\n",
       "      <td>78613</td>\n",
       "      <td>Irrigation - Multi-Family</td>\n",
       "      <td>11000</td>\n",
       "    </tr>\n",
       "    <tr>\n",
       "      <th>1</th>\n",
       "      <td>2012</td>\n",
       "      <td>78.3</td>\n",
       "      <td>82.6</td>\n",
       "      <td>8.9</td>\n",
       "      <td>14.4</td>\n",
       "      <td>41.6</td>\n",
       "      <td>3.9</td>\n",
       "      <td>32.2</td>\n",
       "      <td>51.6</td>\n",
       "      <td>313.5</td>\n",
       "      <td>78613</td>\n",
       "      <td>Multi-Family</td>\n",
       "      <td>23000</td>\n",
       "    </tr>\n",
       "    <tr>\n",
       "      <th>2</th>\n",
       "      <td>2012</td>\n",
       "      <td>78.3</td>\n",
       "      <td>82.6</td>\n",
       "      <td>8.9</td>\n",
       "      <td>14.4</td>\n",
       "      <td>41.6</td>\n",
       "      <td>3.9</td>\n",
       "      <td>32.2</td>\n",
       "      <td>51.6</td>\n",
       "      <td>313.5</td>\n",
       "      <td>78617</td>\n",
       "      <td>Residential</td>\n",
       "      <td>19840800</td>\n",
       "    </tr>\n",
       "    <tr>\n",
       "      <th>3</th>\n",
       "      <td>2012</td>\n",
       "      <td>78.3</td>\n",
       "      <td>82.6</td>\n",
       "      <td>8.9</td>\n",
       "      <td>14.4</td>\n",
       "      <td>41.6</td>\n",
       "      <td>3.9</td>\n",
       "      <td>32.2</td>\n",
       "      <td>51.6</td>\n",
       "      <td>313.5</td>\n",
       "      <td>78617</td>\n",
       "      <td>Multi-Family</td>\n",
       "      <td>2477000</td>\n",
       "    </tr>\n",
       "    <tr>\n",
       "      <th>4</th>\n",
       "      <td>2012</td>\n",
       "      <td>78.3</td>\n",
       "      <td>82.6</td>\n",
       "      <td>8.9</td>\n",
       "      <td>14.4</td>\n",
       "      <td>41.6</td>\n",
       "      <td>3.9</td>\n",
       "      <td>32.2</td>\n",
       "      <td>51.6</td>\n",
       "      <td>313.5</td>\n",
       "      <td>78652</td>\n",
       "      <td>Irrigation - Residential</td>\n",
       "      <td>38500</td>\n",
       "    </tr>\n",
       "  </tbody>\n",
       "</table>\n",
       "</div>"
      ],
      "text/plain": [
       "   Year  Basin_1  Basin_2  Basin_3  Basin_4  Basin_5  Basin_6  Basin_7  \\\n",
       "0  2012     78.3     82.6      8.9     14.4     41.6      3.9     32.2   \n",
       "1  2012     78.3     82.6      8.9     14.4     41.6      3.9     32.2   \n",
       "2  2012     78.3     82.6      8.9     14.4     41.6      3.9     32.2   \n",
       "3  2012     78.3     82.6      8.9     14.4     41.6      3.9     32.2   \n",
       "4  2012     78.3     82.6      8.9     14.4     41.6      3.9     32.2   \n",
       "\n",
       "   Basin_9  Total  Postal Code             Customer Class  Total Gallons  \n",
       "0     51.6  313.5        78613  Irrigation - Multi-Family          11000  \n",
       "1     51.6  313.5        78613               Multi-Family          23000  \n",
       "2     51.6  313.5        78617                Residential       19840800  \n",
       "3     51.6  313.5        78617               Multi-Family        2477000  \n",
       "4     51.6  313.5        78652   Irrigation - Residential          38500  "
      ]
     },
     "execution_count": 40,
     "metadata": {},
     "output_type": "execute_result"
    }
   ],
   "source": [
    "# Study data files\n",
    "aquifer_metadata_path = \"datasets/archive/Edwards_Aquifer_annual_recharge_2000_2020.csv\"\n",
    "Residential_Water_data_path = \"datasets/archive/Austin_Water_-_Residential_Water_Consumption.csv\"\n",
    "\n",
    "# Read the water data and the study results\n",
    "aquifer_metadata = pd.read_csv(aquifer_metadata_path)\n",
    "Residential_Water_data = pd.read_csv(Residential_Water_data_path)\n",
    "\n",
    "# Combine the data \n",
    "\n",
    "Residential_Water_data['Year'] = Residential_Water_data ['Year Month'].str.split ('/').str [0]\n",
    "\n",
    "Residential_Water_data['Year'] = Residential_Water_data['Year'].astype(int)\n",
    "Residential_Water_data['Year'] = pd.to_numeric(Residential_Water_data['Year'])\n",
    "\n",
    "Residential_Water_data['Total Gallons'] = Residential_Water_data['Total Gallons'].astype(int)\n",
    "\n",
    "# Combine the data into a single DataFrame\n",
    "\n",
    "water_complete_complete = (pd.merge(aquifer_metadata, Residential_Water_data, how=\"inner\", on=[\"Year\"]))\n",
    "water_complete_complete = water_complete_complete.drop(['Year Month'], axis=1)\n",
    "\n",
    "# Display the data table for preview\n",
    "water_complete_complete.head()"
   ]
  },
  {
   "cell_type": "code",
   "execution_count": 41,
   "metadata": {},
   "outputs": [
    {
     "data": {
      "text/plain": [
       "Year                int64\n",
       "Basin_1           float64\n",
       "Basin_2           float64\n",
       "Basin_3           float64\n",
       "Basin_4           float64\n",
       "Basin_5           float64\n",
       "Basin_6           float64\n",
       "Basin_7           float64\n",
       "Basin_9           float64\n",
       "Total             float64\n",
       "Postal Code         int64\n",
       "Customer Class     object\n",
       "Total Gallons       int32\n",
       "dtype: object"
      ]
     },
     "execution_count": 41,
     "metadata": {},
     "output_type": "execute_result"
    }
   ],
   "source": [
    "water_complete_complete.dtypes"
   ]
  },
  {
   "cell_type": "code",
   "execution_count": 47,
   "metadata": {},
   "outputs": [
    {
     "data": {
      "text/html": [
       "<div>\n",
       "<style scoped>\n",
       "    .dataframe tbody tr th:only-of-type {\n",
       "        vertical-align: middle;\n",
       "    }\n",
       "\n",
       "    .dataframe tbody tr th {\n",
       "        vertical-align: top;\n",
       "    }\n",
       "\n",
       "    .dataframe thead th {\n",
       "        text-align: right;\n",
       "    }\n",
       "</style>\n",
       "<table border=\"1\" class=\"dataframe\">\n",
       "  <thead>\n",
       "    <tr style=\"text-align: right;\">\n",
       "      <th></th>\n",
       "      <th>mean</th>\n",
       "      <th>median</th>\n",
       "      <th>var</th>\n",
       "      <th>std</th>\n",
       "      <th>sem</th>\n",
       "    </tr>\n",
       "    <tr>\n",
       "      <th>Customer Class</th>\n",
       "      <th></th>\n",
       "      <th></th>\n",
       "      <th></th>\n",
       "      <th></th>\n",
       "      <th></th>\n",
       "    </tr>\n",
       "  </thead>\n",
       "  <tbody>\n",
       "    <tr>\n",
       "      <th>Irrigation - Multi-Family</th>\n",
       "      <td>1.853053e+06</td>\n",
       "      <td>997750.0</td>\n",
       "      <td>5.264581e+12</td>\n",
       "      <td>2.294467e+06</td>\n",
       "      <td>36415.531466</td>\n",
       "    </tr>\n",
       "    <tr>\n",
       "      <th>Irrigation - Residential</th>\n",
       "      <td>9.377354e+04</td>\n",
       "      <td>22950.0</td>\n",
       "      <td>5.869516e+10</td>\n",
       "      <td>2.422708e+05</td>\n",
       "      <td>3960.493009</td>\n",
       "    </tr>\n",
       "    <tr>\n",
       "      <th>Multi-Family</th>\n",
       "      <td>1.694487e+07</td>\n",
       "      <td>13057200.0</td>\n",
       "      <td>2.870086e+14</td>\n",
       "      <td>1.694133e+07</td>\n",
       "      <td>255168.252711</td>\n",
       "    </tr>\n",
       "    <tr>\n",
       "      <th>Residential</th>\n",
       "      <td>2.735767e+07</td>\n",
       "      <td>20781150.0</td>\n",
       "      <td>5.720986e+14</td>\n",
       "      <td>2.391858e+07</td>\n",
       "      <td>348888.380039</td>\n",
       "    </tr>\n",
       "  </tbody>\n",
       "</table>\n",
       "</div>"
      ],
      "text/plain": [
       "                                   mean      median           var  \\\n",
       "Customer Class                                                      \n",
       "Irrigation - Multi-Family  1.853053e+06    997750.0  5.264581e+12   \n",
       "Irrigation - Residential   9.377354e+04     22950.0  5.869516e+10   \n",
       "Multi-Family               1.694487e+07  13057200.0  2.870086e+14   \n",
       "Residential                2.735767e+07  20781150.0  5.720986e+14   \n",
       "\n",
       "                                    std            sem  \n",
       "Customer Class                                          \n",
       "Irrigation - Multi-Family  2.294467e+06   36415.531466  \n",
       "Irrigation - Residential   2.422708e+05    3960.493009  \n",
       "Multi-Family               1.694133e+07  255168.252711  \n",
       "Residential                2.391858e+07  348888.380039  "
      ]
     },
     "execution_count": 47,
     "metadata": {},
     "output_type": "execute_result"
    }
   ],
   "source": [
    "summary_df2 = water_complete_complete.groupby('Customer Class')['Total Gallons'].agg(['mean', 'median', 'var', 'std','sem'])\n",
    "summary_df2"
   ]
  },
  {
   "cell_type": "code",
   "execution_count": 50,
   "metadata": {},
   "outputs": [
    {
     "data": {
      "image/png": "[encoded data removed]",
      "text/plain": [
       "<Figure size 1000x500 with 1 Axes>"
      ]
     },
     "metadata": {},
     "output_type": "display_data"
    }
   ],
   "source": [
    "Custumer_class = water_complete_complete.groupby('Customer Class')['Total Gallons'].sum()\n",
    "\n",
    "# Create a bar plot using the  series\n",
    "Custumer_class.plot(kind='bar', figsize=(10,5))\n",
    "\n",
    "# Set the title and axis labels\n",
    "plt.xlabel('Customer Class')\n",
    "plt.ylabel('Total Gallons')\n",
    "\n",
    "# Display the plot\n",
    "plt.show()\n"
   ]
  },
  {
   "cell_type": "code",
   "execution_count": 58,
   "metadata": {},
   "outputs": [
    {
     "data": {
      "image/png": "[encoded data removed]",
      "text/plain": [
       "<Figure size 1000x500 with 1 Axes>"
      ]
     },
     "metadata": {},
     "output_type": "display_data"
    }
   ],
   "source": [
    "Custumer_class = water_complete_complete.groupby('Year')['Total Gallons'].sum()\n",
    "\n",
    "# Create a bar plot using the  series\n",
    "Custumer_class.plot(kind='bar', figsize=(10,5))\n",
    "\n",
    "# Set the title and axis labels\n",
    "plt.xlabel('Years')\n",
    "plt.ylabel('Total Gallons')\n",
    "\n",
    "# Display the plot\n",
    "plt.show()"
   ]
  },
  {
   "cell_type": "code",
   "execution_count": null,
   "metadata": {},
   "outputs": [],
   "source": []
  }
 ],
 "metadata": {
  "kernelspec": {
   "display_name": "EdX",
   "language": "python",
   "name": "python3"
  },
  "language_info": {
   "codemirror_mode": {
    "name": "ipython",
    "version": 3
   },
   "file_extension": ".py",
   "mimetype": "text/x-python",
   "name": "python",
   "nbconvert_exporter": "python",
   "pygments_lexer": "ipython3",
   "version": "3.10.11"
  },
  "orig_nbformat": 4
 },
 "nbformat": 4,
 "nbformat_minor": 2
}
